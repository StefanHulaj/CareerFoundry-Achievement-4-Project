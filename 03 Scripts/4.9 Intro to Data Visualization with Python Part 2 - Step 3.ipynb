{
 "cells": [
  {
   "cell_type": "code",
   "execution_count": 1,
   "id": "e963099d-0ec3-472c-9f9d-44b72c590e94",
   "metadata": {},
   "outputs": [],
   "source": [
    "#Import Libaries\n",
    "\n",
    "import pandas as pd\n",
    "import numpy as np\n",
    "import os\n",
    "import matplotlib.pyplot as plt\n",
    "import seaborn as sns\n",
    "import scipy"
   ]
  },
  {
   "cell_type": "code",
   "execution_count": 2,
   "id": "f4dc5d37-cfe0-4e14-ba2e-fb0e7187f009",
   "metadata": {},
   "outputs": [],
   "source": [
    "path = r'C:\\Users\\stefa\\Documents\\07-Instacart Basket Analysis'"
   ]
  },
  {
   "cell_type": "code",
   "execution_count": 3,
   "id": "e12abbf3-93e4-4493-8df7-ec9d81df350c",
   "metadata": {},
   "outputs": [
    {
     "data": {
      "text/plain": [
       "'C:\\\\Users\\\\stefa\\\\Documents\\\\07-Instacart Basket Analysis'"
      ]
     },
     "execution_count": 3,
     "metadata": {},
     "output_type": "execute_result"
    }
   ],
   "source": [
    "path"
   ]
  },
  {
   "cell_type": "code",
   "execution_count": 4,
   "id": "15c25cd1-7259-4ae1-b620-b087720d3468",
   "metadata": {},
   "outputs": [],
   "source": [
    "ords_prods_customers_merge = pd.read_pickle(os.path.join(path, '02 data' , 'prepared data' , 'orders_products_customers_combined.pkl'))"
   ]
  },
  {
   "cell_type": "markdown",
   "id": "9e8f497e-693f-43ad-8066-2f90605fd458",
   "metadata": {},
   "source": [
    "Step 2: If you haven’t done so already, follow the instructions in the Exercise to create a bar chart, a histogram, a scatterplot, and a line chart, using a sample subset for the line chart."
   ]
  },
  {
   "cell_type": "markdown",
   "id": "86f15801-763d-4e98-bd93-8be0ecbfe76c",
   "metadata": {},
   "source": [
    "Completed in seperate scripts."
   ]
  },
  {
   "cell_type": "markdown",
   "id": "ac2ec93d-1b4f-4506-9777-cbd21822f624",
   "metadata": {},
   "source": [
    "Step 3: You need to provide the Instacart senior stakeholders with descriptive findings about sales. Create a histogram of the “order_hour_of_day” column. In a markdown cell beneath your histogram, describe what the histogram demonstrates."
   ]
  },
  {
   "cell_type": "code",
   "execution_count": 5,
   "id": "5e75ca5e-1e1e-4369-9ca2-7140348ac22f",
   "metadata": {
    "scrolled": true
   },
   "outputs": [
    {
     "data": {
      "text/plain": [
       "product_id                          int64\n",
       "product_name                       object\n",
       "aisle_id                            int64\n",
       "department_id                       int64\n",
       "prices                            float64\n",
       "order_id                            int64\n",
       "user_id                            object\n",
       "order_number                        int64\n",
       "orders_day_of_week                  int64\n",
       "orders_time_of_day (24 hours)       int64\n",
       "days_since_prior_order            float64\n",
       "add_to_cart_order                   int64\n",
       "reordered                           int64\n",
       "busiest days                       object\n",
       "slowest days                       object\n",
       "busiest_period_of_day              object\n",
       "max_order                           int64\n",
       "loyalty_flag                       object\n",
       "avg_spending_user                   int64\n",
       "spending_flag                      object\n",
       "ords_freq_median                  float64\n",
       "frequency_flag                     object\n",
       "first_name                         object\n",
       "last_name                          object\n",
       "gender                             object\n",
       "state                              object\n",
       "age                                 int64\n",
       "date_joined                        object\n",
       "number_dependents                   int64\n",
       "fam_status                         object\n",
       "income                              int64\n",
       "_merge                           category\n",
       "dtype: object"
      ]
     },
     "execution_count": 5,
     "metadata": {},
     "output_type": "execute_result"
    }
   ],
   "source": [
    "ords_prods_customers_merge.dtypes"
   ]
  },
  {
   "cell_type": "code",
   "execution_count": 6,
   "id": "d8108394-e463-4484-bb2f-a7d8723e51c9",
   "metadata": {},
   "outputs": [],
   "source": [
    "#Removing _merge column\n",
    "ords_prods_customers_merge = ords_prods_customers_merge.drop(columns=['_merge'])"
   ]
  },
  {
   "cell_type": "code",
   "execution_count": 7,
   "id": "8901aff2-e3c6-4142-ba96-d1c58bc62192",
   "metadata": {},
   "outputs": [
    {
     "data": {
      "text/plain": [
       "product_id                         int64\n",
       "product_name                      object\n",
       "aisle_id                           int64\n",
       "department_id                      int64\n",
       "prices                           float64\n",
       "order_id                           int64\n",
       "user_id                           object\n",
       "order_number                       int64\n",
       "orders_day_of_week                 int64\n",
       "orders_time_of_day (24 hours)      int64\n",
       "days_since_prior_order           float64\n",
       "add_to_cart_order                  int64\n",
       "reordered                          int64\n",
       "busiest days                      object\n",
       "slowest days                      object\n",
       "busiest_period_of_day             object\n",
       "max_order                          int64\n",
       "loyalty_flag                      object\n",
       "avg_spending_user                  int64\n",
       "spending_flag                     object\n",
       "ords_freq_median                 float64\n",
       "frequency_flag                    object\n",
       "first_name                        object\n",
       "last_name                         object\n",
       "gender                            object\n",
       "state                             object\n",
       "age                                int64\n",
       "date_joined                       object\n",
       "number_dependents                  int64\n",
       "fam_status                        object\n",
       "income                             int64\n",
       "dtype: object"
      ]
     },
     "execution_count": 7,
     "metadata": {},
     "output_type": "execute_result"
    }
   ],
   "source": [
    "ords_prods_customers_merge.dtypes"
   ]
  },
  {
   "cell_type": "code",
   "execution_count": 8,
   "id": "36fe5024-6c9c-4040-8267-c8e308a8993b",
   "metadata": {},
   "outputs": [
    {
     "data": {
      "image/png": "[encoded data removed]",
      "text/plain": [
       "<Figure size 640x480 with 1 Axes>"
      ]
     },
     "metadata": {},
     "output_type": "display_data"
    }
   ],
   "source": [
    "hist = ords_prods_customers_merge['orders_time_of_day (24 hours)'].plot.hist(bins = 24)"
   ]
  },
  {
   "cell_type": "markdown",
   "id": "1e314934-0dcc-4a12-b8df-d0ab6882d840",
   "metadata": {},
   "source": [
    "The histogram demonstrates each hour of the day from midnight (0) to 11 PM and how frequently people order during each time of day. From 7 AM, number of orders grow until they peak around 10 AM. The frequency of orders remains stable until 4pm (16) then decrease throughout the evening and night. The time of day with the lowest frequency of orders is from midnight (0) to 6 AM."
   ]
  },
  {
   "cell_type": "code",
   "execution_count": 9,
   "id": "804ebc80-f6b8-4943-8f0a-9201b7218130",
   "metadata": {},
   "outputs": [],
   "source": [
    "hist.figure.savefig(os.path.join(path, '04 Analysis','Visualizations', 'hist_order_frequency.png'))"
   ]
  },
  {
   "cell_type": "code",
   "execution_count": 10,
   "id": "13109632-4ae7-40f8-a774-14100f42530d",
   "metadata": {},
   "outputs": [],
   "source": [
    "ords_prods_customers_merge.to_pickle(os.path.join(path, '02 Data','Prepared Data', 'orders_products_customers_combined.pkl'))"
   ]
  }
 ],
 "metadata": {
  "kernelspec": {
   "display_name": "Python [conda env:base] *",
   "language": "python",
   "name": "conda-base-py"
  },
  "language_info": {
   "codemirror_mode": {
    "name": "ipython",
    "version": 3
   },
   "file_extension": ".py",
   "mimetype": "text/x-python",
   "name": "python",
   "nbconvert_exporter": "python",
   "pygments_lexer": "ipython3",
   "version": "3.12.7"
  }
 },
 "nbformat": 4,
 "nbformat_minor": 5
}
