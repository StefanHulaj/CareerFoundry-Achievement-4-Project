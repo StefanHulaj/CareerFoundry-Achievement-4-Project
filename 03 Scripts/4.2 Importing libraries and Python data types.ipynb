{
 "cells": [
  {
   "cell_type": "markdown",
   "id": "9213052e-4746-4d76-9e43-e6a1b0f53081",
   "metadata": {},
   "source": [
    "Importing libraries pandas and numpy"
   ]
  },
  {
   "cell_type": "code",
   "execution_count": 1,
   "id": "68e172e6-ba30-4d18-9f0b-bad23f24576c",
   "metadata": {},
   "outputs": [],
   "source": [
    "# Import libraries\n",
    "import pandas as pd\n",
    "import numpy as np\n",
    "import os"
   ]
  },
  {
   "cell_type": "markdown",
   "id": "8d994fe2-2389-4957-96a2-115b6774256e",
   "metadata": {},
   "source": [
    "Working with Python data types"
   ]
  },
  {
   "cell_type": "code",
   "execution_count": 2,
   "id": "f0e133b7-f289-444c-9b4d-724adeb78bdd",
   "metadata": {},
   "outputs": [
    {
     "data": {
      "text/plain": [
       "100"
      ]
     },
     "execution_count": 2,
     "metadata": {},
     "output_type": "execute_result"
    }
   ],
   "source": [
    "77 + 23"
   ]
  },
  {
   "cell_type": "code",
   "execution_count": 3,
   "id": "057d99be-806f-4634-b76c-6da79e86e8df",
   "metadata": {},
   "outputs": [
    {
     "data": {
      "text/plain": [
       "100"
      ]
     },
     "execution_count": 3,
     "metadata": {},
     "output_type": "execute_result"
    }
   ],
   "source": [
    "130 - 30"
   ]
  },
  {
   "cell_type": "code",
   "execution_count": 4,
   "id": "4e33a136-e5cd-4e56-a384-c9736a3c9954",
   "metadata": {},
   "outputs": [
    {
     "data": {
      "text/plain": [
       "100"
      ]
     },
     "execution_count": 4,
     "metadata": {},
     "output_type": "execute_result"
    }
   ],
   "source": [
    "90 + 60 - 50"
   ]
  },
  {
   "cell_type": "code",
   "execution_count": 5,
   "id": "014f37ed-dd05-43a0-a342-45d21e92989c",
   "metadata": {},
   "outputs": [
    {
     "data": {
      "text/plain": [
       "float"
      ]
     },
     "execution_count": 5,
     "metadata": {},
     "output_type": "execute_result"
    }
   ],
   "source": [
    "x = 3.14\n",
    "type(x)"
   ]
  },
  {
   "cell_type": "code",
   "execution_count": 6,
   "id": "f711fb60-5325-4a70-9e35-710938383857",
   "metadata": {},
   "outputs": [
    {
     "data": {
      "text/plain": [
       "float"
      ]
     },
     "execution_count": 6,
     "metadata": {},
     "output_type": "execute_result"
    }
   ],
   "source": [
    "y = 2.71\n",
    "type(y)"
   ]
  },
  {
   "cell_type": "code",
   "execution_count": 7,
   "id": "1aec4f4c-be34-4237-b77e-391cce537c6b",
   "metadata": {},
   "outputs": [
    {
     "data": {
      "text/plain": [
       "5.85"
      ]
     },
     "execution_count": 7,
     "metadata": {},
     "output_type": "execute_result"
    }
   ],
   "source": [
    "x + y"
   ]
  },
  {
   "cell_type": "code",
   "execution_count": 8,
   "id": "30831f97-4e54-4189-90d6-f145ba4201e8",
   "metadata": {},
   "outputs": [],
   "source": [
    "a = 't'"
   ]
  },
  {
   "cell_type": "code",
   "execution_count": 9,
   "id": "299c41f6-4221-4ea6-bc2b-2ebf1cfab31c",
   "metadata": {},
   "outputs": [],
   "source": [
    "b = 'r'"
   ]
  },
  {
   "cell_type": "code",
   "execution_count": 10,
   "id": "50035a56-cbb3-4654-8dbf-cb8f62a885f8",
   "metadata": {},
   "outputs": [],
   "source": [
    "c = 'y'"
   ]
  },
  {
   "cell_type": "code",
   "execution_count": 11,
   "id": "36e577e6-5dd2-4487-a9d1-f25fd84ef7e7",
   "metadata": {},
   "outputs": [
    {
     "data": {
      "text/plain": [
       "'try'"
      ]
     },
     "execution_count": 11,
     "metadata": {},
     "output_type": "execute_result"
    }
   ],
   "source": [
    "a + b + c"
   ]
  },
  {
   "cell_type": "code",
   "execution_count": 12,
   "id": "387c9b34-23e6-42f5-833d-a7a29cafef0b",
   "metadata": {},
   "outputs": [],
   "source": [
    "d = 'If at first, you do not succeed... '"
   ]
  },
  {
   "cell_type": "code",
   "execution_count": 13,
   "id": "6d5a46c1-ddab-4645-8288-f3904fec1e99",
   "metadata": {},
   "outputs": [],
   "source": [
    "e = 'try, try, try again!'"
   ]
  },
  {
   "cell_type": "code",
   "execution_count": 14,
   "id": "2c3dfa2e-587f-4358-a249-d21e920c2c20",
   "metadata": {},
   "outputs": [
    {
     "data": {
      "text/plain": [
       "'If at first, you do not succeed... try, try, try again!'"
      ]
     },
     "execution_count": 14,
     "metadata": {},
     "output_type": "execute_result"
    }
   ],
   "source": [
    "d + e"
   ]
  },
  {
   "cell_type": "code",
   "execution_count": 15,
   "id": "e48ab83c-202b-4ec1-8a24-7c69892b0718",
   "metadata": {},
   "outputs": [],
   "source": [
    "f = 'Coding '"
   ]
  },
  {
   "cell_type": "code",
   "execution_count": 16,
   "id": "41dd1bd5-2699-4a2a-9b98-e169dd0d4c94",
   "metadata": {},
   "outputs": [],
   "source": [
    "g = 'is fun!'"
   ]
  },
  {
   "cell_type": "code",
   "execution_count": 17,
   "id": "e9151510-817c-41e1-9a4d-38805d94a1b7",
   "metadata": {},
   "outputs": [
    {
     "data": {
      "text/plain": [
       "'Coding is fun!'"
      ]
     },
     "execution_count": 17,
     "metadata": {},
     "output_type": "execute_result"
    }
   ],
   "source": [
    "f + g"
   ]
  },
  {
   "cell_type": "code",
   "execution_count": 18,
   "id": "c07a9458-db42-4f31-ba3a-9b105d4712f6",
   "metadata": {},
   "outputs": [
    {
     "name": "stdout",
     "output_type": "stream",
     "text": [
      "Potato Potato Potato Potato Potato Potato Potato Potato Potato Potato Potato Potato Potato Potato Potato Potato Potato Potato Potato Potato Potato Potato Potato Potato Potato Potato Potato Potato Potato Potato Potato Potato Potato Potato Potato Potato Potato Potato Potato Potato Potato Potato Potato Potato Potato Potato Potato Potato Potato Potato Potato Potato Potato Potato Potato Potato Potato Potato Potato Potato Potato Potato Potato Potato Potato Potato Potato Potato Potato Potato Potato Potato Potato Potato Potato Potato Potato Potato Potato Potato Potato Potato Potato Potato Potato Potato Potato Potato Potato Potato Potato Potato Potato Potato Potato Potato Potato Potato Potato Potato \n"
     ]
    }
   ],
   "source": [
    "string = 'Potato '\n",
    "print(string * 100)"
   ]
  },
  {
   "cell_type": "code",
   "execution_count": null,
   "id": "71a1c422-b1ed-4980-876f-61524e2a2941",
   "metadata": {},
   "outputs": [],
   "source": []
  }
 ],
 "metadata": {
  "kernelspec": {
   "display_name": "Python [conda env:base] *",
   "language": "python",
   "name": "conda-base-py"
  },
  "language_info": {
   "codemirror_mode": {
    "name": "ipython",
    "version": 3
   },
   "file_extension": ".py",
   "mimetype": "text/x-python",
   "name": "python",
   "nbconvert_exporter": "python",
   "pygments_lexer": "ipython3",
   "version": "3.12.7"
  }
 },
 "nbformat": 4,
 "nbformat_minor": 5
}
