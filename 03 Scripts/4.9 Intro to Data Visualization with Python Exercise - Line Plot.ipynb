{
 "cells": [
  {
   "cell_type": "code",
   "execution_count": 1,
   "id": "e963099d-0ec3-472c-9f9d-44b72c590e94",
   "metadata": {},
   "outputs": [],
   "source": [
    "#Import Libaries\n",
    "\n",
    "import pandas as pd\n",
    "import numpy as np\n",
    "import os\n",
    "import matplotlib.pyplot as plt\n",
    "import seaborn as sns\n",
    "import scipy"
   ]
  },
  {
   "cell_type": "code",
   "execution_count": 2,
   "id": "f4dc5d37-cfe0-4e14-ba2e-fb0e7187f009",
   "metadata": {},
   "outputs": [],
   "source": [
    "path = r'C:\\Users\\stefa\\Documents\\07-Instacart Basket Analysis'"
   ]
  },
  {
   "cell_type": "code",
   "execution_count": 3,
   "id": "e12abbf3-93e4-4493-8df7-ec9d81df350c",
   "metadata": {},
   "outputs": [
    {
     "data": {
      "text/plain": [
       "'C:\\\\Users\\\\stefa\\\\Documents\\\\07-Instacart Basket Analysis'"
      ]
     },
     "execution_count": 3,
     "metadata": {},
     "output_type": "execute_result"
    }
   ],
   "source": [
    "path"
   ]
  },
  {
   "cell_type": "code",
   "execution_count": 4,
   "id": "15c25cd1-7259-4ae1-b620-b087720d3468",
   "metadata": {},
   "outputs": [],
   "source": [
    "ords_prods_merge = pd.read_pickle(os.path.join(path, '02 data' , 'prepared data' , 'ords_prods_merge_4.8.pkl'))"
   ]
  },
  {
   "cell_type": "code",
   "execution_count": 5,
   "id": "f813e574-276d-4610-aab1-4037a3d1cea0",
   "metadata": {},
   "outputs": [],
   "source": [
    "df = ords_prods_merge"
   ]
  },
  {
   "cell_type": "code",
   "execution_count": 6,
   "id": "476e7516-aa1f-4dcc-8e4d-4c2a8fd2da2e",
   "metadata": {},
   "outputs": [
    {
     "data": {
      "text/plain": [
       "(32434212, 24)"
      ]
     },
     "execution_count": 6,
     "metadata": {},
     "output_type": "execute_result"
    }
   ],
   "source": [
    "#Confirming dataframe shape\n",
    "df.shape"
   ]
  },
  {
   "cell_type": "code",
   "execution_count": 7,
   "id": "3ddf95cb-f5c8-4661-b1dd-2a41491a8e1b",
   "metadata": {},
   "outputs": [
    {
     "data": {
      "text/html": [
       "<div>\n",
       "<style scoped>\n",
       "    .dataframe tbody tr th:only-of-type {\n",
       "        vertical-align: middle;\n",
       "    }\n",
       "\n",
       "    .dataframe tbody tr th {\n",
       "        vertical-align: top;\n",
       "    }\n",
       "\n",
       "    .dataframe thead th {\n",
       "        text-align: right;\n",
       "    }\n",
       "</style>\n",
       "<table border=\"1\" class=\"dataframe\">\n",
       "  <thead>\n",
       "    <tr style=\"text-align: right;\">\n",
       "      <th></th>\n",
       "      <th>product_id</th>\n",
       "      <th>product_name</th>\n",
       "      <th>aisle_id</th>\n",
       "      <th>department_id</th>\n",
       "      <th>prices</th>\n",
       "      <th>Unnamed: 0</th>\n",
       "      <th>order_id</th>\n",
       "      <th>user_id</th>\n",
       "      <th>order_number</th>\n",
       "      <th>orders_day_of_week</th>\n",
       "      <th>...</th>\n",
       "      <th>Check</th>\n",
       "      <th>busiest days</th>\n",
       "      <th>slowest days</th>\n",
       "      <th>busiest_period_of_day</th>\n",
       "      <th>max_order</th>\n",
       "      <th>loyalty_flag</th>\n",
       "      <th>avg_spending_user</th>\n",
       "      <th>spending_flag</th>\n",
       "      <th>ords_freq_median</th>\n",
       "      <th>frequency_flag</th>\n",
       "    </tr>\n",
       "  </thead>\n",
       "  <tbody>\n",
       "    <tr>\n",
       "      <th>0</th>\n",
       "      <td>1</td>\n",
       "      <td>Chocolate Sandwich Cookies</td>\n",
       "      <td>61</td>\n",
       "      <td>19</td>\n",
       "      <td>5.8</td>\n",
       "      <td>1987</td>\n",
       "      <td>3139998</td>\n",
       "      <td>138</td>\n",
       "      <td>28</td>\n",
       "      <td>6</td>\n",
       "      <td>...</td>\n",
       "      <td>both</td>\n",
       "      <td>Not one of the busiest days</td>\n",
       "      <td>Not one of the slowest days</td>\n",
       "      <td>Most orders</td>\n",
       "      <td>32</td>\n",
       "      <td>Regular customer</td>\n",
       "      <td>32</td>\n",
       "      <td>Low spender</td>\n",
       "      <td>8.0</td>\n",
       "      <td>Frequent customer</td>\n",
       "    </tr>\n",
       "    <tr>\n",
       "      <th>1</th>\n",
       "      <td>1</td>\n",
       "      <td>Chocolate Sandwich Cookies</td>\n",
       "      <td>61</td>\n",
       "      <td>19</td>\n",
       "      <td>5.8</td>\n",
       "      <td>1989</td>\n",
       "      <td>1977647</td>\n",
       "      <td>138</td>\n",
       "      <td>30</td>\n",
       "      <td>6</td>\n",
       "      <td>...</td>\n",
       "      <td>both</td>\n",
       "      <td>Not one of the busiest days</td>\n",
       "      <td>Not one of the slowest days</td>\n",
       "      <td>Average orders</td>\n",
       "      <td>32</td>\n",
       "      <td>Regular customer</td>\n",
       "      <td>32</td>\n",
       "      <td>Low spender</td>\n",
       "      <td>8.0</td>\n",
       "      <td>Frequent customer</td>\n",
       "    </tr>\n",
       "    <tr>\n",
       "      <th>2</th>\n",
       "      <td>1</td>\n",
       "      <td>Chocolate Sandwich Cookies</td>\n",
       "      <td>61</td>\n",
       "      <td>19</td>\n",
       "      <td>5.8</td>\n",
       "      <td>11433</td>\n",
       "      <td>389851</td>\n",
       "      <td>709</td>\n",
       "      <td>2</td>\n",
       "      <td>0</td>\n",
       "      <td>...</td>\n",
       "      <td>both</td>\n",
       "      <td>Busiest days</td>\n",
       "      <td>Not one of the slowest days</td>\n",
       "      <td>Average orders</td>\n",
       "      <td>5</td>\n",
       "      <td>New customer</td>\n",
       "      <td>5</td>\n",
       "      <td>High spender</td>\n",
       "      <td>8.0</td>\n",
       "      <td>Frequent customer</td>\n",
       "    </tr>\n",
       "    <tr>\n",
       "      <th>3</th>\n",
       "      <td>1</td>\n",
       "      <td>Chocolate Sandwich Cookies</td>\n",
       "      <td>61</td>\n",
       "      <td>19</td>\n",
       "      <td>5.8</td>\n",
       "      <td>12198</td>\n",
       "      <td>652770</td>\n",
       "      <td>764</td>\n",
       "      <td>1</td>\n",
       "      <td>3</td>\n",
       "      <td>...</td>\n",
       "      <td>both</td>\n",
       "      <td>Not one of the busiest days</td>\n",
       "      <td>Slowest days</td>\n",
       "      <td>Most orders</td>\n",
       "      <td>3</td>\n",
       "      <td>New customer</td>\n",
       "      <td>3</td>\n",
       "      <td>High spender</td>\n",
       "      <td>9.0</td>\n",
       "      <td>Frequent customer</td>\n",
       "    </tr>\n",
       "    <tr>\n",
       "      <th>4</th>\n",
       "      <td>1</td>\n",
       "      <td>Chocolate Sandwich Cookies</td>\n",
       "      <td>61</td>\n",
       "      <td>19</td>\n",
       "      <td>5.8</td>\n",
       "      <td>12200</td>\n",
       "      <td>1813452</td>\n",
       "      <td>764</td>\n",
       "      <td>3</td>\n",
       "      <td>4</td>\n",
       "      <td>...</td>\n",
       "      <td>both</td>\n",
       "      <td>Not one of the busiest days</td>\n",
       "      <td>Slowest days</td>\n",
       "      <td>Average orders</td>\n",
       "      <td>3</td>\n",
       "      <td>New customer</td>\n",
       "      <td>3</td>\n",
       "      <td>High spender</td>\n",
       "      <td>9.0</td>\n",
       "      <td>Frequent customer</td>\n",
       "    </tr>\n",
       "  </tbody>\n",
       "</table>\n",
       "<p>5 rows × 24 columns</p>\n",
       "</div>"
      ],
      "text/plain": [
       "   product_id                product_name  aisle_id  department_id  prices  \\\n",
       "0           1  Chocolate Sandwich Cookies        61             19     5.8   \n",
       "1           1  Chocolate Sandwich Cookies        61             19     5.8   \n",
       "2           1  Chocolate Sandwich Cookies        61             19     5.8   \n",
       "3           1  Chocolate Sandwich Cookies        61             19     5.8   \n",
       "4           1  Chocolate Sandwich Cookies        61             19     5.8   \n",
       "\n",
       "   Unnamed: 0  order_id  user_id  order_number  orders_day_of_week  ...  \\\n",
       "0        1987   3139998      138            28                   6  ...   \n",
       "1        1989   1977647      138            30                   6  ...   \n",
       "2       11433    389851      709             2                   0  ...   \n",
       "3       12198    652770      764             1                   3  ...   \n",
       "4       12200   1813452      764             3                   4  ...   \n",
       "\n",
       "   Check                 busiest days                 slowest days  \\\n",
       "0   both  Not one of the busiest days  Not one of the slowest days   \n",
       "1   both  Not one of the busiest days  Not one of the slowest days   \n",
       "2   both                 Busiest days  Not one of the slowest days   \n",
       "3   both  Not one of the busiest days                 Slowest days   \n",
       "4   both  Not one of the busiest days                 Slowest days   \n",
       "\n",
       "   busiest_period_of_day max_order      loyalty_flag avg_spending_user  \\\n",
       "0            Most orders        32  Regular customer                32   \n",
       "1         Average orders        32  Regular customer                32   \n",
       "2         Average orders         5      New customer                 5   \n",
       "3            Most orders         3      New customer                 3   \n",
       "4         Average orders         3      New customer                 3   \n",
       "\n",
       "  spending_flag  ords_freq_median     frequency_flag  \n",
       "0   Low spender               8.0  Frequent customer  \n",
       "1   Low spender               8.0  Frequent customer  \n",
       "2  High spender               8.0  Frequent customer  \n",
       "3  High spender               9.0  Frequent customer  \n",
       "4  High spender               9.0  Frequent customer  \n",
       "\n",
       "[5 rows x 24 columns]"
      ]
     },
     "execution_count": 7,
     "metadata": {},
     "output_type": "execute_result"
    }
   ],
   "source": [
    "#Confirming dataframe\n",
    "df.head()"
   ]
  },
  {
   "cell_type": "code",
   "execution_count": 8,
   "id": "f0435432-f8b9-4267-9853-762e438650f8",
   "metadata": {},
   "outputs": [],
   "source": [
    "np.random.seed(4)"
   ]
  },
  {
   "cell_type": "code",
   "execution_count": 9,
   "id": "d1cec14f-395f-451b-be90-9eb03155fbb0",
   "metadata": {},
   "outputs": [],
   "source": [
    "dev = np.random.rand(len(ords_prods_merge)) <= 0.7"
   ]
  },
  {
   "cell_type": "code",
   "execution_count": 10,
   "id": "f82b7b74-ff72-4b9a-96a1-c6d11bf7dffe",
   "metadata": {},
   "outputs": [],
   "source": [
    "big = ords_prods_merge[dev]"
   ]
  },
  {
   "cell_type": "code",
   "execution_count": 11,
   "id": "5c21ba34-b2e8-4b9f-bbaa-3c8b498dcf74",
   "metadata": {},
   "outputs": [],
   "source": [
    "small = ords_prods_merge[~dev]"
   ]
  },
  {
   "cell_type": "code",
   "execution_count": 12,
   "id": "1428ba67-94e9-4cfb-9263-23333fa74b40",
   "metadata": {},
   "outputs": [
    {
     "data": {
      "text/plain": [
       "32434212"
      ]
     },
     "execution_count": 12,
     "metadata": {},
     "output_type": "execute_result"
    }
   ],
   "source": [
    "len(ords_prods_merge)"
   ]
  },
  {
   "cell_type": "code",
   "execution_count": 13,
   "id": "c8a55ca9-9c57-4638-bfed-0d43e12ec220",
   "metadata": {},
   "outputs": [
    {
     "data": {
      "text/plain": [
       "32434212"
      ]
     },
     "execution_count": 13,
     "metadata": {},
     "output_type": "execute_result"
    }
   ],
   "source": [
    "len(big) + len(small)"
   ]
  },
  {
   "cell_type": "code",
   "execution_count": 14,
   "id": "cc228993-73bc-4bae-9286-c34fc55d03b8",
   "metadata": {},
   "outputs": [],
   "source": [
    "df_2 = small[['orders_day_of_week','prices']]"
   ]
  },
  {
   "cell_type": "code",
   "execution_count": 15,
   "id": "7dbf289e-56b4-40c0-8f16-2abfcc3efa99",
   "metadata": {},
   "outputs": [
    {
     "data": {
      "image/png": "[encoded data removed]",
      "text/plain": [
       "<Figure size 640x480 with 1 Axes>"
      ]
     },
     "metadata": {},
     "output_type": "display_data"
    }
   ],
   "source": [
    "line = sns.lineplot(data = df_2, x = 'orders_day_of_week',y = 'prices')"
   ]
  },
  {
   "cell_type": "code",
   "execution_count": 16,
   "id": "23e2829c-6dfc-4ff6-b0fc-e37514c398ed",
   "metadata": {},
   "outputs": [],
   "source": [
    "line.figure.savefig(os.path.join(path, '04 Analysis','Visualizations', 'order_avg_price_day_of_week.png'))"
   ]
  }
 ],
 "metadata": {
  "kernelspec": {
   "display_name": "Python [conda env:base] *",
   "language": "python",
   "name": "conda-base-py"
  },
  "language_info": {
   "codemirror_mode": {
    "name": "ipython",
    "version": 3
   },
   "file_extension": ".py",
   "mimetype": "text/x-python",
   "name": "python",
   "nbconvert_exporter": "python",
   "pygments_lexer": "ipython3",
   "version": "3.12.7"
  }
 },
 "nbformat": 4,
 "nbformat_minor": 5
}
