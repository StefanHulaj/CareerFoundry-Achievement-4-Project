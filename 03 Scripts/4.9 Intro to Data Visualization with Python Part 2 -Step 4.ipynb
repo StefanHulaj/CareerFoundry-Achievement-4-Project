{
 "cells": [
  {
   "cell_type": "code",
   "execution_count": 1,
   "id": "e963099d-0ec3-472c-9f9d-44b72c590e94",
   "metadata": {},
   "outputs": [],
   "source": [
    "#Import Libaries\n",
    "\n",
    "import pandas as pd\n",
    "import numpy as np\n",
    "import os\n",
    "import matplotlib.pyplot as plt\n",
    "import seaborn as sns\n",
    "import scipy"
   ]
  },
  {
   "cell_type": "code",
   "execution_count": 2,
   "id": "f4dc5d37-cfe0-4e14-ba2e-fb0e7187f009",
   "metadata": {},
   "outputs": [],
   "source": [
    "path = r'C:\\Users\\stefa\\Documents\\07-Instacart Basket Analysis'"
   ]
  },
  {
   "cell_type": "code",
   "execution_count": 3,
   "id": "e12abbf3-93e4-4493-8df7-ec9d81df350c",
   "metadata": {},
   "outputs": [
    {
     "data": {
      "text/plain": [
       "'C:\\\\Users\\\\stefa\\\\Documents\\\\07-Instacart Basket Analysis'"
      ]
     },
     "execution_count": 3,
     "metadata": {},
     "output_type": "execute_result"
    }
   ],
   "source": [
    "path"
   ]
  },
  {
   "cell_type": "code",
   "execution_count": 4,
   "id": "15c25cd1-7259-4ae1-b620-b087720d3468",
   "metadata": {},
   "outputs": [],
   "source": [
    "ords_prods_customers_merge = pd.read_pickle(os.path.join(path, '02 data' , 'prepared data' , 'orders_products_customers_combined.pkl'))"
   ]
  },
  {
   "cell_type": "code",
   "execution_count": 5,
   "id": "5e75ca5e-1e1e-4369-9ca2-7140348ac22f",
   "metadata": {
    "scrolled": true
   },
   "outputs": [
    {
     "data": {
      "text/plain": [
       "product_id                         int64\n",
       "product_name                      object\n",
       "aisle_id                           int64\n",
       "department_id                      int64\n",
       "prices                           float64\n",
       "order_id                           int64\n",
       "user_id                           object\n",
       "order_number                       int64\n",
       "orders_day_of_week                 int64\n",
       "orders_time_of_day (24 hours)      int64\n",
       "days_since_prior_order           float64\n",
       "add_to_cart_order                  int64\n",
       "reordered                          int64\n",
       "busiest days                      object\n",
       "slowest days                      object\n",
       "busiest_period_of_day             object\n",
       "max_order                          int64\n",
       "loyalty_flag                      object\n",
       "avg_spending_user                  int64\n",
       "spending_flag                     object\n",
       "ords_freq_median                 float64\n",
       "frequency_flag                    object\n",
       "first_name                        object\n",
       "last_name                         object\n",
       "gender                            object\n",
       "state                             object\n",
       "age                                int64\n",
       "date_joined                       object\n",
       "number_dependents                  int64\n",
       "fam_status                        object\n",
       "income                             int64\n",
       "dtype: object"
      ]
     },
     "execution_count": 5,
     "metadata": {},
     "output_type": "execute_result"
    }
   ],
   "source": [
    "ords_prods_customers_merge.dtypes"
   ]
  },
  {
   "cell_type": "markdown",
   "id": "6063d1dd-2b74-4789-8d6d-42be5ad9e3eb",
   "metadata": {},
   "source": [
    "Step 4 - The marketing team is curious about the distribution of orders among customers in terms of loyalty. Create a bar chart from the “loyalty_flag” column."
   ]
  },
  {
   "cell_type": "code",
   "execution_count": 6,
   "id": "831f8315-f7f7-4f06-b3c2-15ec649aff1f",
   "metadata": {},
   "outputs": [
    {
     "data": {
      "image/png": "[encoded data removed]",
      "text/plain": [
       "<Figure size 640x480 with 1 Axes>"
      ]
     },
     "metadata": {},
     "output_type": "display_data"
    }
   ],
   "source": [
    "bar = ords_prods_customers_merge['loyalty_flag'].value_counts().plot.bar()"
   ]
  },
  {
   "cell_type": "code",
   "execution_count": 7,
   "id": "26273805-a6a4-41d7-b6a2-11b7ab06f5ba",
   "metadata": {},
   "outputs": [],
   "source": [
    "bar.figure.savefig(os.path.join(path, '04 Analysis','Visualizations', 'bar_customer.png'))"
   ]
  }
 ],
 "metadata": {
  "kernelspec": {
   "display_name": "Python [conda env:base] *",
   "language": "python",
   "name": "conda-base-py"
  },
  "language_info": {
   "codemirror_mode": {
    "name": "ipython",
    "version": 3
   },
   "file_extension": ".py",
   "mimetype": "text/x-python",
   "name": "python",
   "nbconvert_exporter": "python",
   "pygments_lexer": "ipython3",
   "version": "3.12.7"
  }
 },
 "nbformat": 4,
 "nbformat_minor": 5
}
