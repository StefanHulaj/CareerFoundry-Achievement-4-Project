{
 "cells": [
  {
   "cell_type": "code",
   "execution_count": 1,
   "id": "e963099d-0ec3-472c-9f9d-44b72c590e94",
   "metadata": {},
   "outputs": [],
   "source": [
    "#Import Libaries\n",
    "\n",
    "import pandas as pd\n",
    "import numpy as np\n",
    "import os\n",
    "import matplotlib.pyplot as plt\n",
    "import seaborn as sns\n",
    "import scipy"
   ]
  },
  {
   "cell_type": "code",
   "execution_count": 2,
   "id": "f4dc5d37-cfe0-4e14-ba2e-fb0e7187f009",
   "metadata": {},
   "outputs": [],
   "source": [
    "path = r'C:\\Users\\stefa\\Documents\\07-Instacart Basket Analysis'"
   ]
  },
  {
   "cell_type": "code",
   "execution_count": 3,
   "id": "15c25cd1-7259-4ae1-b620-b087720d3468",
   "metadata": {},
   "outputs": [],
   "source": [
    "#Importing dataframe containing merged customers, orders, and products dataframes.\n",
    "complete_df = pd.read_pickle(os.path.join(path, '02 data' , 'prepared data' , 'orders_products_customers_combined.pkl'))"
   ]
  },
  {
   "cell_type": "markdown",
   "id": "8ba88e8e-d4ba-4434-aeef-8a22ac366449",
   "metadata": {},
   "source": [
    "Step 2 - Consider any security implications that might exist for this new data. You’ll need to address any PII data in the data before continuing your analysis."
   ]
  },
  {
   "cell_type": "markdown",
   "id": "6f50fef6-676b-4b14-b35c-54a1ee96e01b",
   "metadata": {},
   "source": [
    "The PII in this dataframe are first_name, last_name, and state. I would bring this PII up with my superior to see if it needs to be changed or removed. For now, we keep it in."
   ]
  },
  {
   "cell_type": "code",
   "execution_count": 4,
   "id": "0cfbeb14-bf60-467d-9ac4-8f54939890a1",
   "metadata": {},
   "outputs": [
    {
     "data": {
      "text/plain": [
       "Index(['product_id', 'product_name', 'aisle_id', 'department_id', 'prices',\n",
       "       'order_id', 'user_id', 'order_number', 'orders_day_of_week',\n",
       "       'orders_time_of_day (24 hours)', 'days_since_prior_order',\n",
       "       'add_to_cart_order', 'reordered', 'busiest days', 'slowest days',\n",
       "       'busiest_period_of_day', 'max_order', 'loyalty_flag',\n",
       "       'avg_spending_user', 'spending_flag', 'ords_freq_median',\n",
       "       'frequency_flag', 'first_name', 'last_name', 'gender', 'state', 'age',\n",
       "       'date_joined', 'number_dependents', 'fam_status', 'income'],\n",
       "      dtype='object')"
      ]
     },
     "execution_count": 4,
     "metadata": {},
     "output_type": "execute_result"
    }
   ],
   "source": [
    "complete_df.columns"
   ]
  },
  {
   "cell_type": "code",
   "execution_count": 5,
   "id": "dfc12d24-f35e-4544-833b-390baad46a3d",
   "metadata": {},
   "outputs": [],
   "source": [
    "complete_df.insert(26, 'region', 'n/a')"
   ]
  },
  {
   "cell_type": "code",
   "execution_count": 6,
   "id": "586525a1-1b2d-4b77-84e4-6cb596720296",
   "metadata": {
    "scrolled": true
   },
   "outputs": [
    {
     "data": {
      "text/plain": [
       "product_id                         int64\n",
       "product_name                      object\n",
       "aisle_id                           int64\n",
       "department_id                      int64\n",
       "prices                           float64\n",
       "order_id                           int64\n",
       "user_id                           object\n",
       "order_number                       int64\n",
       "orders_day_of_week                 int64\n",
       "orders_time_of_day (24 hours)      int64\n",
       "days_since_prior_order           float64\n",
       "add_to_cart_order                  int64\n",
       "reordered                          int64\n",
       "busiest days                      object\n",
       "slowest days                      object\n",
       "busiest_period_of_day             object\n",
       "max_order                          int64\n",
       "loyalty_flag                      object\n",
       "avg_spending_user                  int64\n",
       "spending_flag                     object\n",
       "ords_freq_median                 float64\n",
       "frequency_flag                    object\n",
       "first_name                        object\n",
       "last_name                         object\n",
       "gender                            object\n",
       "state                             object\n",
       "region                            object\n",
       "age                                int64\n",
       "date_joined                       object\n",
       "number_dependents                  int64\n",
       "fam_status                        object\n",
       "income                             int64\n",
       "dtype: object"
      ]
     },
     "execution_count": 6,
     "metadata": {},
     "output_type": "execute_result"
    }
   ],
   "source": [
    "complete_df.dtypes"
   ]
  },
  {
   "cell_type": "code",
   "execution_count": 7,
   "id": "c6832de4-8e21-4368-b032-169b0a9437d1",
   "metadata": {},
   "outputs": [
    {
     "data": {
      "text/html": [
       "<div>\n",
       "<style scoped>\n",
       "    .dataframe tbody tr th:only-of-type {\n",
       "        vertical-align: middle;\n",
       "    }\n",
       "\n",
       "    .dataframe tbody tr th {\n",
       "        vertical-align: top;\n",
       "    }\n",
       "\n",
       "    .dataframe thead th {\n",
       "        text-align: right;\n",
       "    }\n",
       "</style>\n",
       "<table border=\"1\" class=\"dataframe\">\n",
       "  <thead>\n",
       "    <tr style=\"text-align: right;\">\n",
       "      <th></th>\n",
       "      <th>product_id</th>\n",
       "      <th>product_name</th>\n",
       "      <th>aisle_id</th>\n",
       "      <th>department_id</th>\n",
       "      <th>prices</th>\n",
       "      <th>order_id</th>\n",
       "      <th>user_id</th>\n",
       "      <th>order_number</th>\n",
       "      <th>orders_day_of_week</th>\n",
       "      <th>orders_time_of_day (24 hours)</th>\n",
       "      <th>...</th>\n",
       "      <th>first_name</th>\n",
       "      <th>last_name</th>\n",
       "      <th>gender</th>\n",
       "      <th>state</th>\n",
       "      <th>region</th>\n",
       "      <th>age</th>\n",
       "      <th>date_joined</th>\n",
       "      <th>number_dependents</th>\n",
       "      <th>fam_status</th>\n",
       "      <th>income</th>\n",
       "    </tr>\n",
       "  </thead>\n",
       "  <tbody>\n",
       "    <tr>\n",
       "      <th>0</th>\n",
       "      <td>1</td>\n",
       "      <td>Chocolate Sandwich Cookies</td>\n",
       "      <td>61</td>\n",
       "      <td>19</td>\n",
       "      <td>5.8</td>\n",
       "      <td>3139998</td>\n",
       "      <td>138</td>\n",
       "      <td>28</td>\n",
       "      <td>6</td>\n",
       "      <td>11</td>\n",
       "      <td>...</td>\n",
       "      <td>Charles</td>\n",
       "      <td>Cox</td>\n",
       "      <td>Male</td>\n",
       "      <td>Minnesota</td>\n",
       "      <td>n/a</td>\n",
       "      <td>81</td>\n",
       "      <td>8/1/2019</td>\n",
       "      <td>1</td>\n",
       "      <td>married</td>\n",
       "      <td>49620</td>\n",
       "    </tr>\n",
       "    <tr>\n",
       "      <th>1</th>\n",
       "      <td>1</td>\n",
       "      <td>Chocolate Sandwich Cookies</td>\n",
       "      <td>61</td>\n",
       "      <td>19</td>\n",
       "      <td>5.8</td>\n",
       "      <td>1977647</td>\n",
       "      <td>138</td>\n",
       "      <td>30</td>\n",
       "      <td>6</td>\n",
       "      <td>17</td>\n",
       "      <td>...</td>\n",
       "      <td>Charles</td>\n",
       "      <td>Cox</td>\n",
       "      <td>Male</td>\n",
       "      <td>Minnesota</td>\n",
       "      <td>n/a</td>\n",
       "      <td>81</td>\n",
       "      <td>8/1/2019</td>\n",
       "      <td>1</td>\n",
       "      <td>married</td>\n",
       "      <td>49620</td>\n",
       "    </tr>\n",
       "    <tr>\n",
       "      <th>2</th>\n",
       "      <td>1</td>\n",
       "      <td>Chocolate Sandwich Cookies</td>\n",
       "      <td>61</td>\n",
       "      <td>19</td>\n",
       "      <td>5.8</td>\n",
       "      <td>389851</td>\n",
       "      <td>709</td>\n",
       "      <td>2</td>\n",
       "      <td>0</td>\n",
       "      <td>21</td>\n",
       "      <td>...</td>\n",
       "      <td>Deborah</td>\n",
       "      <td>Glass</td>\n",
       "      <td>Female</td>\n",
       "      <td>Vermont</td>\n",
       "      <td>n/a</td>\n",
       "      <td>66</td>\n",
       "      <td>6/16/2018</td>\n",
       "      <td>2</td>\n",
       "      <td>married</td>\n",
       "      <td>158302</td>\n",
       "    </tr>\n",
       "    <tr>\n",
       "      <th>3</th>\n",
       "      <td>1</td>\n",
       "      <td>Chocolate Sandwich Cookies</td>\n",
       "      <td>61</td>\n",
       "      <td>19</td>\n",
       "      <td>5.8</td>\n",
       "      <td>652770</td>\n",
       "      <td>764</td>\n",
       "      <td>1</td>\n",
       "      <td>3</td>\n",
       "      <td>13</td>\n",
       "      <td>...</td>\n",
       "      <td>Heather</td>\n",
       "      <td>Myers</td>\n",
       "      <td>Female</td>\n",
       "      <td>Wisconsin</td>\n",
       "      <td>n/a</td>\n",
       "      <td>40</td>\n",
       "      <td>2/9/2020</td>\n",
       "      <td>3</td>\n",
       "      <td>married</td>\n",
       "      <td>31308</td>\n",
       "    </tr>\n",
       "    <tr>\n",
       "      <th>4</th>\n",
       "      <td>1</td>\n",
       "      <td>Chocolate Sandwich Cookies</td>\n",
       "      <td>61</td>\n",
       "      <td>19</td>\n",
       "      <td>5.8</td>\n",
       "      <td>1813452</td>\n",
       "      <td>764</td>\n",
       "      <td>3</td>\n",
       "      <td>4</td>\n",
       "      <td>17</td>\n",
       "      <td>...</td>\n",
       "      <td>Heather</td>\n",
       "      <td>Myers</td>\n",
       "      <td>Female</td>\n",
       "      <td>Wisconsin</td>\n",
       "      <td>n/a</td>\n",
       "      <td>40</td>\n",
       "      <td>2/9/2020</td>\n",
       "      <td>3</td>\n",
       "      <td>married</td>\n",
       "      <td>31308</td>\n",
       "    </tr>\n",
       "  </tbody>\n",
       "</table>\n",
       "<p>5 rows × 32 columns</p>\n",
       "</div>"
      ],
      "text/plain": [
       "   product_id                product_name  aisle_id  department_id  prices  \\\n",
       "0           1  Chocolate Sandwich Cookies        61             19     5.8   \n",
       "1           1  Chocolate Sandwich Cookies        61             19     5.8   \n",
       "2           1  Chocolate Sandwich Cookies        61             19     5.8   \n",
       "3           1  Chocolate Sandwich Cookies        61             19     5.8   \n",
       "4           1  Chocolate Sandwich Cookies        61             19     5.8   \n",
       "\n",
       "   order_id user_id  order_number  orders_day_of_week  \\\n",
       "0   3139998     138            28                   6   \n",
       "1   1977647     138            30                   6   \n",
       "2    389851     709             2                   0   \n",
       "3    652770     764             1                   3   \n",
       "4   1813452     764             3                   4   \n",
       "\n",
       "   orders_time_of_day (24 hours)  ...  first_name  last_name  gender  \\\n",
       "0                             11  ...     Charles        Cox    Male   \n",
       "1                             17  ...     Charles        Cox    Male   \n",
       "2                             21  ...     Deborah      Glass  Female   \n",
       "3                             13  ...     Heather      Myers  Female   \n",
       "4                             17  ...     Heather      Myers  Female   \n",
       "\n",
       "       state region age  date_joined number_dependents  fam_status  income  \n",
       "0  Minnesota    n/a  81     8/1/2019                 1     married   49620  \n",
       "1  Minnesota    n/a  81     8/1/2019                 1     married   49620  \n",
       "2    Vermont    n/a  66    6/16/2018                 2     married  158302  \n",
       "3  Wisconsin    n/a  40     2/9/2020                 3     married   31308  \n",
       "4  Wisconsin    n/a  40     2/9/2020                 3     married   31308  \n",
       "\n",
       "[5 rows x 32 columns]"
      ]
     },
     "execution_count": 7,
     "metadata": {},
     "output_type": "execute_result"
    }
   ],
   "source": [
    "complete_df.head()"
   ]
  },
  {
   "cell_type": "code",
   "execution_count": 8,
   "id": "e99dbb12-cb1a-4f3d-9e6a-3693b377ba6a",
   "metadata": {},
   "outputs": [],
   "source": [
    "state_region = {'Maine' : 'Northeast','New Hampshire' : 'Northeast','Vermont' : 'Northeast','Massachusetts' : 'Northeast','Rhode Island' : 'Northeast','Connecticut' : 'Northeast','New York' : 'Northeast','Pennsylvania' : 'Northeast','New Jersey' : 'Northeast','Wisconsin' : 'Midwest','Michigan' : 'Midwest','Illinois' : 'Midwest','Indiana' : 'Midwest','Ohio' : 'Midwest','North Dakota' : 'Midwest','South Dakota' : 'Midwest','Nebraska' : 'Midwest','Kansas' : 'Midwest','Minnesota' : 'Midwest','Iowa' : 'Midwest','Missouri' : 'Midwest','Delaware' : 'South','Maryland' : 'South','District of Columbia' : 'South','Virginia' : 'South','West Virginia' : 'South','North Carolina' : 'South','South Carolina' : 'South','Georgia' : 'South','Florida' : 'South','Kentucky' : 'South','Tennessee' : 'South','Mississippi' : 'South','Alabama' : 'South','Oklahoma' : 'South','Texas' : 'South','Arkansas' : 'South','Louisiana' : 'South','Idaho' : 'West','Montana' : 'West','Wyoming' : 'West','Nevada' : 'West','Utah' : 'West','Colorado' : 'West','Arizona' : 'West','New Mexico' : 'West','Alaska' : 'West','Washington' : 'West','Oregon' : 'West','California' : 'West','Hawaii' : 'West'}"
   ]
  },
  {
   "cell_type": "code",
   "execution_count": 9,
   "id": "e3267552-2ad1-4705-acf2-4bf2503312c4",
   "metadata": {},
   "outputs": [],
   "source": [
    "complete_df['region']= complete_df['state'].map(state_region)"
   ]
  },
  {
   "cell_type": "code",
   "execution_count": 10,
   "id": "47381256-a03d-4a0a-bf67-a3fe2007f049",
   "metadata": {},
   "outputs": [
    {
     "data": {
      "text/plain": [
       "Index(['product_id', 'product_name', 'aisle_id', 'department_id', 'prices',\n",
       "       'order_id', 'user_id', 'order_number', 'orders_day_of_week',\n",
       "       'orders_time_of_day (24 hours)', 'days_since_prior_order',\n",
       "       'add_to_cart_order', 'reordered', 'busiest days', 'slowest days',\n",
       "       'busiest_period_of_day', 'max_order', 'loyalty_flag',\n",
       "       'avg_spending_user', 'spending_flag', 'ords_freq_median',\n",
       "       'frequency_flag', 'first_name', 'last_name', 'gender', 'state',\n",
       "       'region', 'age', 'date_joined', 'number_dependents', 'fam_status',\n",
       "       'income'],\n",
       "      dtype='object')"
      ]
     },
     "execution_count": 10,
     "metadata": {},
     "output_type": "execute_result"
    }
   ],
   "source": [
    "complete_df.columns"
   ]
  },
  {
   "cell_type": "markdown",
   "id": "450eaefc-330f-4770-a9c9-e5733fc430d8",
   "metadata": {},
   "source": [
    "Step 3 - The Instacart officers are interested in comparing customer behavior in different geographic areas. Create a regional segmentation of the data. You’ll need to create a “Region” column based on the “State” column from your customers data set."
   ]
  },
  {
   "cell_type": "code",
   "execution_count": 11,
   "id": "9e3703f5-b9e1-4be7-ba91-10793a8545d3",
   "metadata": {},
   "outputs": [
    {
     "data": {
      "text/html": [
       "<div>\n",
       "<style scoped>\n",
       "    .dataframe tbody tr th:only-of-type {\n",
       "        vertical-align: middle;\n",
       "    }\n",
       "\n",
       "    .dataframe tbody tr th {\n",
       "        vertical-align: top;\n",
       "    }\n",
       "\n",
       "    .dataframe thead th {\n",
       "        text-align: right;\n",
       "    }\n",
       "</style>\n",
       "<table border=\"1\" class=\"dataframe\">\n",
       "  <thead>\n",
       "    <tr style=\"text-align: right;\">\n",
       "      <th></th>\n",
       "      <th>state</th>\n",
       "      <th>region</th>\n",
       "    </tr>\n",
       "  </thead>\n",
       "  <tbody>\n",
       "    <tr>\n",
       "      <th>0</th>\n",
       "      <td>Minnesota</td>\n",
       "      <td>Midwest</td>\n",
       "    </tr>\n",
       "    <tr>\n",
       "      <th>1</th>\n",
       "      <td>Minnesota</td>\n",
       "      <td>Midwest</td>\n",
       "    </tr>\n",
       "    <tr>\n",
       "      <th>2</th>\n",
       "      <td>Vermont</td>\n",
       "      <td>Northeast</td>\n",
       "    </tr>\n",
       "    <tr>\n",
       "      <th>3</th>\n",
       "      <td>Wisconsin</td>\n",
       "      <td>Midwest</td>\n",
       "    </tr>\n",
       "    <tr>\n",
       "      <th>4</th>\n",
       "      <td>Wisconsin</td>\n",
       "      <td>Midwest</td>\n",
       "    </tr>\n",
       "    <tr>\n",
       "      <th>...</th>\n",
       "      <td>...</td>\n",
       "      <td>...</td>\n",
       "    </tr>\n",
       "    <tr>\n",
       "      <th>32434207</th>\n",
       "      <td>Rhode Island</td>\n",
       "      <td>Northeast</td>\n",
       "    </tr>\n",
       "    <tr>\n",
       "      <th>32434208</th>\n",
       "      <td>West Virginia</td>\n",
       "      <td>South</td>\n",
       "    </tr>\n",
       "    <tr>\n",
       "      <th>32434209</th>\n",
       "      <td>Michigan</td>\n",
       "      <td>Midwest</td>\n",
       "    </tr>\n",
       "    <tr>\n",
       "      <th>32434210</th>\n",
       "      <td>Michigan</td>\n",
       "      <td>Midwest</td>\n",
       "    </tr>\n",
       "    <tr>\n",
       "      <th>32434211</th>\n",
       "      <td>Pennsylvania</td>\n",
       "      <td>Northeast</td>\n",
       "    </tr>\n",
       "  </tbody>\n",
       "</table>\n",
       "<p>32434212 rows × 2 columns</p>\n",
       "</div>"
      ],
      "text/plain": [
       "                  state     region\n",
       "0             Minnesota    Midwest\n",
       "1             Minnesota    Midwest\n",
       "2               Vermont  Northeast\n",
       "3             Wisconsin    Midwest\n",
       "4             Wisconsin    Midwest\n",
       "...                 ...        ...\n",
       "32434207   Rhode Island  Northeast\n",
       "32434208  West Virginia      South\n",
       "32434209       Michigan    Midwest\n",
       "32434210       Michigan    Midwest\n",
       "32434211   Pennsylvania  Northeast\n",
       "\n",
       "[32434212 rows x 2 columns]"
      ]
     },
     "execution_count": 11,
     "metadata": {},
     "output_type": "execute_result"
    }
   ],
   "source": [
    "complete_df[['state', 'region']]"
   ]
  },
  {
   "cell_type": "markdown",
   "id": "2bbda68f-67a0-47ce-8d06-c6fb41a32e40",
   "metadata": {},
   "source": [
    "pd.crosstab(complete_df['region'], complete_df['spending_flag'],dropna=False)"
   ]
  },
  {
   "cell_type": "markdown",
   "id": "bca03a98-3732-4382-acbd-9c5d1ce19b15",
   "metadata": {},
   "source": [
    "Step 4 - The Instacart CFO isn’t interested in customers who don’t generate much revenue for the app. Create an exclusion flag for low-activity customers (customers with less than 5 orders) and exclude them from the data. Make sure you export this sample."
   ]
  },
  {
   "cell_type": "code",
   "execution_count": 12,
   "id": "5eff4fbe-690a-4f3f-96f6-a7ce09316acd",
   "metadata": {},
   "outputs": [
    {
     "data": {
      "image/png": "[encoded data removed]",
      "text/plain": [
       "<Figure size 800x500 with 1 Axes>"
      ]
     },
     "metadata": {},
     "output_type": "display_data"
    }
   ],
   "source": [
    "spending_region = pd.crosstab(complete_df['region'], complete_df['spending_flag'], normalize=\"index\") * 100\n",
    "\n",
    "bar = spending_region.plot(kind=\"bar\", stacked=False, figsize=(8,5))\n",
    "plt.ylabel(\"Customer Percentage\")\n",
    "plt.title(\"U.S. Region\")\n",
    "plt.legend(title=\"Spending Flag\")\n",
    "\n",
    "for container in bar.containers:\n",
    "    bar.bar_label(container, fmt=\"%.1f%%\", label_type=\"edge\")\n",
    "\n",
    "plt.show()"
   ]
  },
  {
   "cell_type": "code",
   "execution_count": 13,
   "id": "80502c50-42fa-4390-a49e-5cfae53674a2",
   "metadata": {},
   "outputs": [],
   "source": [
    "bar_chart=bar.get_figure()"
   ]
  },
  {
   "cell_type": "code",
   "execution_count": 14,
   "id": "e20ce563-7eec-4c9d-8724-e6239eb27211",
   "metadata": {},
   "outputs": [],
   "source": [
    "bar_chart.figure.savefig(os.path.join(path,'04 Analysis','Visualizations','region_spending.png'))"
   ]
  },
  {
   "cell_type": "code",
   "execution_count": 15,
   "id": "933bdf99-07a4-4263-8b9b-d1f721f0a052",
   "metadata": {},
   "outputs": [],
   "source": [
    "complete_df.insert(18, 'exclusion_flag', 'n/a')"
   ]
  },
  {
   "cell_type": "code",
   "execution_count": 16,
   "id": "96015c90-434c-403d-9b76-3595f2367e13",
   "metadata": {},
   "outputs": [],
   "source": [
    "complete_df['exclusion_flag'] = complete_df['order_number'] < 5"
   ]
  },
  {
   "cell_type": "code",
   "execution_count": 17,
   "id": "bb22e286-9a0d-4939-85d2-b17dddeb5145",
   "metadata": {},
   "outputs": [],
   "source": [
    "customer_orders = complete_df.groupby('user_id')['order_number'].max().reset_index()"
   ]
  },
  {
   "cell_type": "code",
   "execution_count": 18,
   "id": "f872724d-c8f2-4fe1-8320-c196dbab3f88",
   "metadata": {},
   "outputs": [],
   "source": [
    "df_current = complete_df[complete_df[\"exclusion_flag\"] == False].copy()"
   ]
  },
  {
   "cell_type": "code",
   "execution_count": 19,
   "id": "1d1e8a41-242d-4355-bb02-3422b357e6b5",
   "metadata": {},
   "outputs": [
    {
     "data": {
      "text/plain": [
       "Index(['product_id', 'product_name', 'aisle_id', 'department_id', 'prices',\n",
       "       'order_id', 'user_id', 'order_number', 'orders_day_of_week',\n",
       "       'orders_time_of_day (24 hours)', 'days_since_prior_order',\n",
       "       'add_to_cart_order', 'reordered', 'busiest days', 'slowest days',\n",
       "       'busiest_period_of_day', 'max_order', 'loyalty_flag', 'exclusion_flag',\n",
       "       'avg_spending_user', 'spending_flag', 'ords_freq_median',\n",
       "       'frequency_flag', 'first_name', 'last_name', 'gender', 'state',\n",
       "       'region', 'age', 'date_joined', 'number_dependents', 'fam_status',\n",
       "       'income'],\n",
       "      dtype='object')"
      ]
     },
     "execution_count": 19,
     "metadata": {},
     "output_type": "execute_result"
    }
   ],
   "source": [
    "df_current.columns"
   ]
  },
  {
   "cell_type": "code",
   "execution_count": 20,
   "id": "dce6b403-a33a-491a-a1b5-c7a433cccf2c",
   "metadata": {},
   "outputs": [],
   "source": [
    "df_current.to_pickle(os.path.join(path, '02 Data','Prepared Data', 'complete_df_1.pkl'))"
   ]
  }
 ],
 "metadata": {
  "kernelspec": {
   "display_name": "Python [conda env:base] *",
   "language": "python",
   "name": "conda-base-py"
  },
  "language_info": {
   "codemirror_mode": {
    "name": "ipython",
    "version": 3
   },
   "file_extension": ".py",
   "mimetype": "text/x-python",
   "name": "python",
   "nbconvert_exporter": "python",
   "pygments_lexer": "ipython3",
   "version": "3.12.7"
  }
 },
 "nbformat": 4,
 "nbformat_minor": 5
}
